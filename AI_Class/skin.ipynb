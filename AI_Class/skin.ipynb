{
 "cells": [
  {
   "cell_type": "code",
   "execution_count": null,
   "metadata": {},
   "outputs": [],
   "source": [
    "#python 3.10.11\n",
    "#tensorflow 2.10.0\n",
    "#pip install numpy==1.23.5\n",
    "#pip install opencv-python==4.6.0.66\n",
    "#pip install matplotlib==3.5.3\n",
    "#pip install scikit-learn==1.1.3\n",
    "#pip install seaborn==0.12.2"
   ]
  },
  {
   "cell_type": "code",
   "execution_count": 2,
   "metadata": {},
   "outputs": [
    {
     "name": "stdout",
     "output_type": "stream",
     "text": [
      "2.10.0\n"
     ]
    }
   ],
   "source": [
    "import tensorflow as tf\n",
    "print(tf.__version__)"
   ]
  },
  {
   "cell_type": "code",
   "execution_count": 3,
   "metadata": {
    "colab": {
     "base_uri": "https://localhost:8080/"
    },
    "execution": {
     "iopub.execute_input": "2025-04-23T02:36:51.397002Z",
     "iopub.status.busy": "2025-04-23T02:36:51.396050Z",
     "iopub.status.idle": "2025-04-23T02:36:51.404230Z",
     "shell.execute_reply": "2025-04-23T02:36:51.403511Z",
     "shell.execute_reply.started": "2025-04-23T02:36:51.396969Z"
    },
    "id": "2hHLXwS3xjK6",
    "outputId": "e8ee34e3-057a-412e-ab37-c50bcd756adf",
    "trusted": true
   },
   "outputs": [
    {
     "name": "stdout",
     "output_type": "stream",
     "text": [
      "Files in dataset path:\n",
      "['test_set', 'train_set']\n"
     ]
    }
   ],
   "source": [
    "import os\n",
    "\n",
    "dataset_path = r\"C:\\Users\\ahmed\\OneDrive\\Desktop\\Files\\tasks\\New folder\\skin-disease-datasaet\"\n",
    "\n",
    "print(\"Files in dataset path:\")\n",
    "print(os.listdir(dataset_path))"
   ]
  },
  {
   "cell_type": "code",
   "execution_count": 4,
   "metadata": {
    "colab": {
     "base_uri": "https://localhost:8080/"
    },
    "execution": {
     "iopub.execute_input": "2025-04-23T02:37:08.297391Z",
     "iopub.status.busy": "2025-04-23T02:37:08.297119Z",
     "iopub.status.idle": "2025-04-23T02:37:08.303912Z",
     "shell.execute_reply": "2025-04-23T02:37:08.303216Z",
     "shell.execute_reply.started": "2025-04-23T02:37:08.297370Z"
    },
    "id": "gjykS1rVxnBI",
    "outputId": "d2a2f26f-0f74-458e-dec4-ff651d880b93",
    "trusted": true
   },
   "outputs": [
    {
     "name": "stdout",
     "output_type": "stream",
     "text": [
      "Files in train set:\n",
      "['BA- cellulitis', 'BA-impetigo', 'FU-athlete-foot', 'FU-nail-fungus', 'FU-ringworm', 'Normal', 'PA-cutaneous-larva-migrans', 'VI-chickenpox', 'VI-shingles']\n"
     ]
    }
   ],
   "source": [
    "# Define paths for the train and test sets\n",
    "train_path = os.path.join(dataset_path, \"train_set\")\n",
    "test_path = os.path.join(dataset_path, \"test_set\")\n",
    "\n",
    "# List contents of the train and test sets\n",
    "print(\"Files in train set:\")\n",
    "print(os.listdir(train_path))\n"
   ]
  },
  {
   "cell_type": "code",
   "execution_count": 5,
   "metadata": {
    "execution": {
     "iopub.execute_input": "2025-04-23T02:37:10.578753Z",
     "iopub.status.busy": "2025-04-23T02:37:10.578327Z",
     "iopub.status.idle": "2025-04-23T02:37:30.982351Z",
     "shell.execute_reply": "2025-04-23T02:37:30.981796Z",
     "shell.execute_reply.started": "2025-04-23T02:37:10.578731Z"
    },
    "id": "-A0CoJYGxpap",
    "trusted": true
   },
   "outputs": [],
   "source": [
    "import os\n",
    "import numpy as np\n",
    "import cv2\n",
    "from tensorflow.keras.preprocessing.image import ImageDataGenerator\n",
    "from tensorflow.keras.applications import ResNet50\n",
    "from tensorflow.keras.applications.resnet import ResNet50, preprocess_input\n",
    "from tensorflow.keras.models import Sequential\n",
    "from tensorflow.keras.layers import Dense, GlobalAveragePooling2D, Dropout, BatchNormalization\n",
    "from tensorflow.keras.optimizers import Adam\n",
    "from tensorflow.keras.callbacks import ReduceLROnPlateau, EarlyStopping\n",
    "from tensorflow.keras.utils import to_categorical\n",
    "from sklearn.preprocessing import LabelEncoder\n",
    "from sklearn.utils.class_weight import compute_class_weight\n",
    "from tensorflow.keras import backend as K\n",
    "import matplotlib.pyplot as plt"
   ]
  },
  {
   "cell_type": "code",
   "execution_count": 6,
   "metadata": {
    "execution": {
     "iopub.execute_input": "2025-04-23T02:37:30.983867Z",
     "iopub.status.busy": "2025-04-23T02:37:30.983321Z",
     "iopub.status.idle": "2025-04-23T02:37:30.989776Z",
     "shell.execute_reply": "2025-04-23T02:37:30.988844Z",
     "shell.execute_reply.started": "2025-04-23T02:37:30.983836Z"
    },
    "id": "KHQdsQc6xtuP",
    "trusted": true
   },
   "outputs": [],
   "source": [
    "def preprocess_image(img):\n",
    "    if img.shape[2] == 3:\n",
    "        img = cv2.cvtColor(img, cv2.COLOR_BGR2RGB)\n",
    "    img = cv2.resize(img, (299, 299))  # Resize to 299x299\n",
    "    img = img.astype('float32')\n",
    "    img = preprocess_input(img)\n",
    "    return img"
   ]
  },
  {
   "cell_type": "code",
   "execution_count": 7,
   "metadata": {
    "execution": {
     "iopub.execute_input": "2025-04-23T02:37:37.259225Z",
     "iopub.status.busy": "2025-04-23T02:37:37.258572Z",
     "iopub.status.idle": "2025-04-23T02:37:53.650956Z",
     "shell.execute_reply": "2025-04-23T02:37:53.650384Z",
     "shell.execute_reply.started": "2025-04-23T02:37:37.259198Z"
    },
    "id": "izWWYJ1UyT3r",
    "trusted": true
   },
   "outputs": [],
   "source": [
    "# Load and preprocess data\n",
    "def load_data(data_path):\n",
    "    data = []\n",
    "    for folder in os.listdir(data_path):\n",
    "        folder_path = os.path.join(data_path, folder)\n",
    "        for file in os.listdir(folder_path):\n",
    "            file_path = os.path.join(folder_path, file)\n",
    "            img = cv2.imread(file_path)\n",
    "            img = preprocess_image(img)  # Apply preprocessing to each image\n",
    "            data.append((img, folder))\n",
    "    return data\n",
    "\n",
    "train_data = load_data(train_path)\n",
    "test_data = load_data(test_path)"
   ]
  },
  {
   "cell_type": "code",
   "execution_count": 8,
   "metadata": {
    "execution": {
     "iopub.execute_input": "2025-04-23T02:37:53.652614Z",
     "iopub.status.busy": "2025-04-23T02:37:53.652045Z",
     "iopub.status.idle": "2025-04-23T02:37:54.869872Z",
     "shell.execute_reply": "2025-04-23T02:37:54.869167Z",
     "shell.execute_reply.started": "2025-04-23T02:37:53.652572Z"
    },
    "id": "BhXZr5cIyXB3",
    "trusted": true
   },
   "outputs": [],
   "source": [
    "# Prepare training and validation sets\n",
    "X_train, y_train = zip(*train_data)\n",
    "X_val, y_val = zip(*test_data)\n",
    "\n",
    "X_train = np.array(X_train)\n",
    "X_val = np.array(X_val)\n",
    "\n",
    "# Encode labels\n",
    "le = LabelEncoder()\n",
    "y_train_encoded = le.fit_transform(y_train)\n",
    "y_val_encoded = le.transform(y_val)\n",
    "\n",
    "y_train_one_hot = to_categorical(y_train_encoded, num_classes=9)\n",
    "y_val_one_hot = to_categorical(y_val_encoded, num_classes=9)"
   ]
  },
  {
   "cell_type": "code",
   "execution_count": 9,
   "metadata": {
    "execution": {
     "iopub.execute_input": "2025-04-23T02:38:00.337889Z",
     "iopub.status.busy": "2025-04-23T02:38:00.337336Z",
     "iopub.status.idle": "2025-04-23T02:38:00.767170Z",
     "shell.execute_reply": "2025-04-23T02:38:00.766620Z",
     "shell.execute_reply.started": "2025-04-23T02:38:00.337869Z"
    },
    "id": "7OrAmgWyyl1j",
    "trusted": true
   },
   "outputs": [],
   "source": [
    "datagen = ImageDataGenerator(\n",
    "    rotation_range=30,\n",
    "    width_shift_range=0.2,\n",
    "    height_shift_range=0.2,\n",
    "    shear_range=0.2,\n",
    "    zoom_range=0.3,\n",
    "    brightness_range=[0.7, 1.3],\n",
    "    horizontal_flip=True,\n",
    "    fill_mode='nearest'\n",
    ")\n",
    "datagen.fit(X_train)"
   ]
  },
  {
   "cell_type": "code",
   "execution_count": 10,
   "metadata": {
    "execution": {
     "iopub.execute_input": "2025-04-23T02:38:48.303483Z",
     "iopub.status.busy": "2025-04-23T02:38:48.303222Z",
     "iopub.status.idle": "2025-04-23T02:38:54.718145Z",
     "shell.execute_reply": "2025-04-23T02:38:54.717548Z",
     "shell.execute_reply.started": "2025-04-23T02:38:48.303462Z"
    },
    "id": "JiPv7qH5yoE5",
    "trusted": true
   },
   "outputs": [],
   "source": [
    "from tensorflow.keras.layers import BatchNormalization\n",
    "base_model = ResNet50(weights='imagenet', include_top=False, input_shape=(299, 299, 3))\n",
    "for layer in base_model.layers[:-10]:  # Fine-tune more layers\n",
    "    layer.trainable = False\n",
    "class CustomBatchNormalization(BatchNormalization):\n",
    "    def get_config(self):\n",
    "        config = super().get_config()\n",
    "        config['axis'] = -1  # Explicitly set axis as an integer\n",
    "        return config\n",
    "\n",
    "# Replace BatchNormalization in the model with CustomBatchNormalization\n",
    "model = Sequential([\n",
    "    base_model,\n",
    "    GlobalAveragePooling2D(),\n",
    "    CustomBatchNormalization(),\n",
    "    Dense(512, activation='relu'),\n",
    "    Dropout(0.5),\n",
    "    Dense(9, activation='softmax')\n",
    "])\n"
   ]
  },
  {
   "cell_type": "code",
   "execution_count": null,
   "metadata": {
    "execution": {
     "iopub.execute_input": "2025-04-23T02:38:56.567192Z",
     "iopub.status.busy": "2025-04-23T02:38:56.566710Z",
     "iopub.status.idle": "2025-04-23T02:38:56.584231Z",
     "shell.execute_reply": "2025-04-23T02:38:56.583655Z",
     "shell.execute_reply.started": "2025-04-23T02:38:56.567167Z"
    },
    "id": "YuYaJ4Dsyu64",
    "trusted": true
   },
   "outputs": [],
   "source": [
    "import tensorflow as tf\n",
    "# Compile model\n",
    "model.compile(optimizer=Adam(learning_rate=1e-4),\n",
    "              loss='categorical_crossentropy',\n",
    "              metrics=['accuracy'])\n",
    "\n",
    "# Callbacks\n",
    "lr_scheduler = ReduceLROnPlateau(monitor='val_loss', factor=0.2, patience=3, min_lr=1e-6)\n",
    "early_stopping = EarlyStopping(monitor='val_loss', patience=10, restore_best_weights=True)"
   ]
  },
  {
   "cell_type": "code",
   "execution_count": 12,
   "metadata": {
    "execution": {
     "iopub.execute_input": "2025-04-23T02:39:03.022375Z",
     "iopub.status.busy": "2025-04-23T02:39:03.021878Z",
     "iopub.status.idle": "2025-04-23T02:39:03.025840Z",
     "shell.execute_reply": "2025-04-23T02:39:03.025141Z",
     "shell.execute_reply.started": "2025-04-23T02:39:03.022355Z"
    },
    "trusted": true
   },
   "outputs": [],
   "source": [
    "y_train_one_hot = y_train_one_hot.astype('float32')\n",
    "y_val_one_hot = y_val_one_hot.astype('float32')"
   ]
  },
  {
   "cell_type": "code",
   "execution_count": 13,
   "metadata": {
    "execution": {
     "iopub.execute_input": "2025-04-23T02:39:04.145455Z",
     "iopub.status.busy": "2025-04-23T02:39:04.144680Z",
     "iopub.status.idle": "2025-04-23T02:39:07.685996Z",
     "shell.execute_reply": "2025-04-23T02:39:07.685235Z",
     "shell.execute_reply.started": "2025-04-23T02:39:04.145425Z"
    },
    "trusted": true
   },
   "outputs": [
    {
     "name": "stdout",
     "output_type": "stream",
     "text": [
      "Batch 1 - Sample batch shape: (32, 299, 299, 3), Sample labels shape: (32, 9)\n",
      "Batch 2 - Sample batch shape: (32, 299, 299, 3), Sample labels shape: (32, 9)\n",
      "Batch 3 - Sample batch shape: (32, 299, 299, 3), Sample labels shape: (32, 9)\n",
      "Batch 4 - Sample batch shape: (32, 299, 299, 3), Sample labels shape: (32, 9)\n",
      "Batch 5 - Sample batch shape: (32, 299, 299, 3), Sample labels shape: (32, 9)\n"
     ]
    }
   ],
   "source": [
    "for i in range(5):\n",
    "    sample_batch, sample_labels = next(datagen.flow(X_train, y_train_one_hot, batch_size=32))\n",
    "    print(f\"Batch {i+1} - Sample batch shape: {sample_batch.shape}, Sample labels shape: {sample_labels.shape}\")"
   ]
  },
  {
   "cell_type": "code",
   "execution_count": 14,
   "metadata": {
    "colab": {
     "base_uri": "https://localhost:8080/"
    },
    "execution": {
     "iopub.execute_input": "2025-04-23T02:39:10.537686Z",
     "iopub.status.busy": "2025-04-23T02:39:10.536989Z",
     "iopub.status.idle": "2025-04-23T02:49:52.751909Z",
     "shell.execute_reply": "2025-04-23T02:49:52.751360Z",
     "shell.execute_reply.started": "2025-04-23T02:39:10.537664Z"
    },
    "id": "Vp-xyw0fy0Ej",
    "outputId": "50553fc6-85f7-44c3-8c75-6be5d6606825",
    "trusted": true
   },
   "outputs": [
    {
     "name": "stdout",
     "output_type": "stream",
     "text": [
      "Epoch 1/50\n",
      "36/36 [==============================] - 273s 7s/step - loss: 1.8210 - accuracy: 0.4470 - val_loss: 0.9821 - val_accuracy: 0.7106 - lr: 1.0000e-04\n",
      "Epoch 2/50\n",
      "36/36 [==============================] - 251s 7s/step - loss: 0.6541 - accuracy: 0.7791 - val_loss: 0.5772 - val_accuracy: 0.8585 - lr: 1.0000e-04\n",
      "Epoch 3/50\n",
      "36/36 [==============================] - 244s 7s/step - loss: 0.4437 - accuracy: 0.8545 - val_loss: 0.3892 - val_accuracy: 0.9035 - lr: 1.0000e-04\n",
      "Epoch 4/50\n",
      "36/36 [==============================] - 242s 7s/step - loss: 0.3227 - accuracy: 0.8948 - val_loss: 0.3346 - val_accuracy: 0.9100 - lr: 1.0000e-04\n",
      "Epoch 5/50\n",
      "36/36 [==============================] - 172s 5s/step - loss: 0.2443 - accuracy: 0.9308 - val_loss: 0.2695 - val_accuracy: 0.9164 - lr: 1.0000e-04\n",
      "Epoch 6/50\n",
      "36/36 [==============================] - 180s 5s/step - loss: 0.1963 - accuracy: 0.9465 - val_loss: 0.2399 - val_accuracy: 0.9389 - lr: 1.0000e-04\n",
      "Epoch 7/50\n",
      "36/36 [==============================] - 180s 5s/step - loss: 0.1665 - accuracy: 0.9413 - val_loss: 0.2396 - val_accuracy: 0.9453 - lr: 1.0000e-04\n",
      "Epoch 8/50\n",
      "36/36 [==============================] - 180s 5s/step - loss: 0.1280 - accuracy: 0.9597 - val_loss: 0.2220 - val_accuracy: 0.9421 - lr: 1.0000e-04\n",
      "Epoch 9/50\n",
      "36/36 [==============================] - 184s 5s/step - loss: 0.1198 - accuracy: 0.9623 - val_loss: 0.2370 - val_accuracy: 0.9421 - lr: 1.0000e-04\n",
      "Epoch 10/50\n",
      "36/36 [==============================] - 179s 5s/step - loss: 0.1029 - accuracy: 0.9649 - val_loss: 0.2036 - val_accuracy: 0.9550 - lr: 1.0000e-04\n",
      "Epoch 11/50\n",
      "36/36 [==============================] - 191s 5s/step - loss: 0.0652 - accuracy: 0.9825 - val_loss: 0.1991 - val_accuracy: 0.9518 - lr: 1.0000e-04\n",
      "Epoch 12/50\n",
      "36/36 [==============================] - 181s 5s/step - loss: 0.0822 - accuracy: 0.9728 - val_loss: 0.1927 - val_accuracy: 0.9550 - lr: 1.0000e-04\n",
      "Epoch 13/50\n",
      "36/36 [==============================] - 179s 5s/step - loss: 0.0509 - accuracy: 0.9790 - val_loss: 0.1920 - val_accuracy: 0.9614 - lr: 1.0000e-04\n",
      "Epoch 14/50\n",
      "36/36 [==============================] - 181s 5s/step - loss: 0.0528 - accuracy: 0.9842 - val_loss: 0.2203 - val_accuracy: 0.9582 - lr: 1.0000e-04\n",
      "Epoch 15/50\n",
      "36/36 [==============================] - 178s 5s/step - loss: 0.0632 - accuracy: 0.9790 - val_loss: 0.2316 - val_accuracy: 0.9453 - lr: 1.0000e-04\n",
      "Epoch 16/50\n",
      "36/36 [==============================] - 176s 5s/step - loss: 0.0581 - accuracy: 0.9833 - val_loss: 0.2313 - val_accuracy: 0.9550 - lr: 1.0000e-04\n",
      "Epoch 17/50\n",
      "36/36 [==============================] - 176s 5s/step - loss: 0.0498 - accuracy: 0.9842 - val_loss: 0.2174 - val_accuracy: 0.9550 - lr: 2.0000e-05\n",
      "Epoch 18/50\n",
      "36/36 [==============================] - 180s 5s/step - loss: 0.0238 - accuracy: 0.9965 - val_loss: 0.2073 - val_accuracy: 0.9582 - lr: 2.0000e-05\n",
      "Epoch 19/50\n",
      "36/36 [==============================] - 177s 5s/step - loss: 0.0380 - accuracy: 0.9886 - val_loss: 0.2146 - val_accuracy: 0.9550 - lr: 2.0000e-05\n",
      "Epoch 20/50\n",
      "36/36 [==============================] - 178s 5s/step - loss: 0.0345 - accuracy: 0.9877 - val_loss: 0.2157 - val_accuracy: 0.9550 - lr: 4.0000e-06\n",
      "Epoch 21/50\n",
      "36/36 [==============================] - 176s 5s/step - loss: 0.0397 - accuracy: 0.9851 - val_loss: 0.2152 - val_accuracy: 0.9550 - lr: 4.0000e-06\n",
      "Epoch 22/50\n",
      "36/36 [==============================] - 176s 5s/step - loss: 0.0445 - accuracy: 0.9860 - val_loss: 0.2162 - val_accuracy: 0.9550 - lr: 4.0000e-06\n",
      "Epoch 23/50\n",
      "36/36 [==============================] - 177s 5s/step - loss: 0.0234 - accuracy: 0.9904 - val_loss: 0.2150 - val_accuracy: 0.9550 - lr: 1.0000e-06\n"
     ]
    }
   ],
   "source": [
    "history = model.fit(\n",
    "    datagen.flow(X_train, y_train_one_hot, batch_size=32),\n",
    "    epochs=50,\n",
    "    validation_data=(X_val, y_val_one_hot),\n",
    "    callbacks=[lr_scheduler, early_stopping]\n",
    ")"
   ]
  },
  {
   "cell_type": "code",
   "execution_count": 15,
   "metadata": {
    "colab": {
     "base_uri": "https://localhost:8080/",
     "height": 507
    },
    "execution": {
     "iopub.execute_input": "2025-04-23T03:04:13.616753Z",
     "iopub.status.busy": "2025-04-23T03:04:13.616167Z",
     "iopub.status.idle": "2025-04-23T03:04:14.236445Z",
     "shell.execute_reply": "2025-04-23T03:04:14.235656Z",
     "shell.execute_reply.started": "2025-04-23T03:04:13.616725Z"
    },
    "id": "W82TPoD_1YN9",
    "outputId": "33d896c3-5b44-4dfd-af86-711c57c6e1ef",
    "trusted": true
   },
   "outputs": [
    {
     "data": {
      "image/png": "[encoded data removed]",
      "text/plain": [
       "<Figure size 1400x500 with 2 Axes>"
      ]
     },
     "metadata": {},
     "output_type": "display_data"
    }
   ],
   "source": [
    "# Extract training and validation loss for visualization\n",
    "train_loss = history.history['loss']\n",
    "val_loss = history.history['val_loss']\n",
    "train_accuracy = history.history['accuracy']\n",
    "val_accuracy = history.history['val_accuracy']\n",
    "\n",
    "# Create an array representing the number of epochs\n",
    "epochs = range(1, len(train_loss) + 1)\n",
    "\n",
    "# Plot the training and validation losses\n",
    "plt.figure(figsize=(14, 5))\n",
    "plt.subplot(1, 2, 1)\n",
    "plt.plot(epochs, train_loss, label='Training Loss', marker='o', color='blue')\n",
    "plt.plot(epochs, val_loss, label='Validation Loss', marker='o', color='red')\n",
    "plt.title('Training and Validation Loss')\n",
    "plt.xlabel('Epochs')\n",
    "plt.ylabel('Loss')\n",
    "plt.legend()\n",
    "\n",
    "# Plot the training and validation accuracy\n",
    "plt.subplot(1, 2, 2)\n",
    "plt.plot(epochs, train_accuracy, label='Training Accuracy', marker='o', color='blue')\n",
    "plt.plot(epochs, val_accuracy, label='Validation Accuracy', marker='o', color='red')\n",
    "plt.title('Training and Validation Accuracy')\n",
    "plt.xlabel('Epochs')\n",
    "plt.ylabel('Accuracy')\n",
    "plt.legend()\n",
    "\n",
    "# Show the plots\n",
    "plt.tight_layout()\n",
    "plt.show()"
   ]
  },
  {
   "cell_type": "code",
   "execution_count": 16,
   "metadata": {
    "colab": {
     "base_uri": "https://localhost:8080/"
    },
    "execution": {
     "iopub.execute_input": "2025-04-23T03:04:21.418011Z",
     "iopub.status.busy": "2025-04-23T03:04:21.417497Z",
     "iopub.status.idle": "2025-04-23T03:04:51.700421Z",
     "shell.execute_reply": "2025-04-23T03:04:51.699721Z",
     "shell.execute_reply.started": "2025-04-23T03:04:21.417988Z"
    },
    "id": "QRVEcPhB1Ywf",
    "outputId": "a6a9bd03-b39c-4d17-83b0-898ba810bf73",
    "trusted": true
   },
   "outputs": [
    {
     "name": "stdout",
     "output_type": "stream",
     "text": [
      "1/1 [==============================] - 1s 1s/step\n",
      "1/1 [==============================] - 0s 140ms/step\n",
      "1/1 [==============================] - 0s 145ms/step\n",
      "1/1 [==============================] - 0s 154ms/step\n",
      "1/1 [==============================] - 0s 156ms/step\n",
      "1/1 [==============================] - 0s 158ms/step\n",
      "1/1 [==============================] - 0s 159ms/step\n",
      "1/1 [==============================] - 0s 171ms/step\n",
      "1/1 [==============================] - 0s 162ms/step\n",
      "1/1 [==============================] - 0s 153ms/step\n",
      "1/1 [==============================] - 0s 151ms/step\n",
      "1/1 [==============================] - 0s 180ms/step\n",
      "1/1 [==============================] - 0s 149ms/step\n",
      "1/1 [==============================] - 0s 145ms/step\n",
      "1/1 [==============================] - 0s 149ms/step\n",
      "1/1 [==============================] - 0s 159ms/step\n",
      "1/1 [==============================] - 0s 146ms/step\n",
      "1/1 [==============================] - 0s 149ms/step\n",
      "1/1 [==============================] - 0s 154ms/step\n",
      "1/1 [==============================] - 0s 156ms/step\n",
      "1/1 [==============================] - 0s 155ms/step\n",
      "1/1 [==============================] - 0s 159ms/step\n",
      "1/1 [==============================] - 0s 155ms/step\n",
      "1/1 [==============================] - 0s 157ms/step\n",
      "1/1 [==============================] - 0s 150ms/step\n",
      "1/1 [==============================] - 0s 157ms/step\n",
      "1/1 [==============================] - 0s 148ms/step\n",
      "1/1 [==============================] - 0s 161ms/step\n",
      "1/1 [==============================] - 0s 148ms/step\n",
      "1/1 [==============================] - 0s 150ms/step\n",
      "1/1 [==============================] - 0s 147ms/step\n",
      "1/1 [==============================] - 0s 150ms/step\n",
      "1/1 [==============================] - 0s 156ms/step\n",
      "1/1 [==============================] - 0s 154ms/step\n",
      "1/1 [==============================] - 0s 156ms/step\n",
      "1/1 [==============================] - 0s 165ms/step\n",
      "1/1 [==============================] - 0s 154ms/step\n",
      "1/1 [==============================] - 0s 152ms/step\n",
      "1/1 [==============================] - 0s 151ms/step\n",
      "1/1 [==============================] - 0s 148ms/step\n",
      "1/1 [==============================] - 0s 149ms/step\n",
      "1/1 [==============================] - 0s 153ms/step\n",
      "1/1 [==============================] - 0s 154ms/step\n",
      "1/1 [==============================] - 0s 155ms/step\n",
      "1/1 [==============================] - 0s 147ms/step\n",
      "1/1 [==============================] - 0s 148ms/step\n",
      "1/1 [==============================] - 0s 150ms/step\n",
      "1/1 [==============================] - 0s 151ms/step\n",
      "1/1 [==============================] - 0s 159ms/step\n",
      "1/1 [==============================] - 0s 158ms/step\n",
      "1/1 [==============================] - 0s 153ms/step\n",
      "1/1 [==============================] - 0s 151ms/step\n",
      "1/1 [==============================] - 0s 149ms/step\n",
      "1/1 [==============================] - 0s 151ms/step\n",
      "1/1 [==============================] - 0s 158ms/step\n",
      "1/1 [==============================] - 0s 148ms/step\n",
      "1/1 [==============================] - 0s 146ms/step\n",
      "1/1 [==============================] - 0s 147ms/step\n",
      "1/1 [==============================] - 0s 150ms/step\n",
      "1/1 [==============================] - 0s 147ms/step\n",
      "1/1 [==============================] - 0s 145ms/step\n",
      "1/1 [==============================] - 0s 149ms/step\n",
      "1/1 [==============================] - 0s 152ms/step\n",
      "1/1 [==============================] - 0s 153ms/step\n",
      "1/1 [==============================] - 0s 162ms/step\n",
      "1/1 [==============================] - 0s 157ms/step\n",
      "1/1 [==============================] - 0s 152ms/step\n",
      "1/1 [==============================] - 0s 151ms/step\n",
      "1/1 [==============================] - 0s 154ms/step\n",
      "1/1 [==============================] - 0s 156ms/step\n",
      "1/1 [==============================] - 0s 147ms/step\n",
      "1/1 [==============================] - 0s 148ms/step\n",
      "1/1 [==============================] - 0s 152ms/step\n",
      "1/1 [==============================] - 0s 148ms/step\n",
      "1/1 [==============================] - 0s 148ms/step\n",
      "1/1 [==============================] - 0s 151ms/step\n",
      "1/1 [==============================] - 0s 155ms/step\n",
      "1/1 [==============================] - 0s 155ms/step\n",
      "1/1 [==============================] - 0s 162ms/step\n",
      "1/1 [==============================] - 0s 153ms/step\n",
      "1/1 [==============================] - 0s 150ms/step\n",
      "1/1 [==============================] - 0s 148ms/step\n",
      "1/1 [==============================] - 0s 148ms/step\n",
      "1/1 [==============================] - 0s 150ms/step\n",
      "1/1 [==============================] - 0s 150ms/step\n",
      "1/1 [==============================] - 0s 151ms/step\n",
      "1/1 [==============================] - 0s 151ms/step\n",
      "1/1 [==============================] - 0s 148ms/step\n",
      "1/1 [==============================] - 0s 153ms/step\n",
      "1/1 [==============================] - 0s 148ms/step\n",
      "1/1 [==============================] - 0s 152ms/step\n",
      "1/1 [==============================] - 0s 157ms/step\n",
      "1/1 [==============================] - 0s 159ms/step\n",
      "1/1 [==============================] - 0s 169ms/step\n",
      "1/1 [==============================] - 0s 155ms/step\n",
      "1/1 [==============================] - 0s 150ms/step\n",
      "1/1 [==============================] - 0s 149ms/step\n",
      "1/1 [==============================] - 0s 149ms/step\n",
      "1/1 [==============================] - 0s 149ms/step\n",
      "1/1 [==============================] - 0s 148ms/step\n",
      "1/1 [==============================] - 0s 149ms/step\n",
      "1/1 [==============================] - 0s 149ms/step\n",
      "1/1 [==============================] - 0s 150ms/step\n",
      "1/1 [==============================] - 0s 148ms/step\n",
      "1/1 [==============================] - 0s 150ms/step\n",
      "1/1 [==============================] - 0s 153ms/step\n",
      "1/1 [==============================] - 0s 155ms/step\n",
      "1/1 [==============================] - 0s 157ms/step\n",
      "1/1 [==============================] - 0s 162ms/step\n",
      "1/1 [==============================] - 0s 155ms/step\n",
      "1/1 [==============================] - 0s 153ms/step\n",
      "1/1 [==============================] - 0s 161ms/step\n",
      "1/1 [==============================] - 0s 148ms/step\n",
      "1/1 [==============================] - 0s 149ms/step\n",
      "1/1 [==============================] - 0s 145ms/step\n",
      "1/1 [==============================] - 0s 150ms/step\n",
      "1/1 [==============================] - 0s 149ms/step\n",
      "1/1 [==============================] - 0s 153ms/step\n",
      "1/1 [==============================] - 0s 147ms/step\n",
      "1/1 [==============================] - 0s 149ms/step\n",
      "1/1 [==============================] - 0s 154ms/step\n",
      "1/1 [==============================] - 0s 153ms/step\n",
      "1/1 [==============================] - 0s 155ms/step\n",
      "1/1 [==============================] - 0s 159ms/step\n",
      "1/1 [==============================] - 0s 155ms/step\n",
      "1/1 [==============================] - 0s 153ms/step\n",
      "1/1 [==============================] - 0s 150ms/step\n",
      "1/1 [==============================] - 0s 148ms/step\n",
      "1/1 [==============================] - 0s 148ms/step\n",
      "1/1 [==============================] - 0s 150ms/step\n",
      "1/1 [==============================] - 0s 151ms/step\n",
      "1/1 [==============================] - 0s 151ms/step\n",
      "1/1 [==============================] - 0s 147ms/step\n",
      "1/1 [==============================] - 0s 150ms/step\n",
      "1/1 [==============================] - 0s 151ms/step\n",
      "1/1 [==============================] - 0s 151ms/step\n",
      "1/1 [==============================] - 0s 153ms/step\n",
      "1/1 [==============================] - 0s 158ms/step\n",
      "1/1 [==============================] - 0s 150ms/step\n",
      "1/1 [==============================] - 0s 150ms/step\n",
      "1/1 [==============================] - 0s 148ms/step\n",
      "1/1 [==============================] - 0s 148ms/step\n",
      "1/1 [==============================] - 0s 158ms/step\n",
      "1/1 [==============================] - 0s 147ms/step\n",
      "1/1 [==============================] - 0s 145ms/step\n",
      "1/1 [==============================] - 0s 147ms/step\n",
      "1/1 [==============================] - 0s 148ms/step\n",
      "1/1 [==============================] - 0s 147ms/step\n",
      "1/1 [==============================] - 0s 149ms/step\n",
      "1/1 [==============================] - 0s 156ms/step\n",
      "1/1 [==============================] - 0s 151ms/step\n",
      "1/1 [==============================] - 0s 155ms/step\n",
      "1/1 [==============================] - 0s 157ms/step\n",
      "1/1 [==============================] - 0s 151ms/step\n",
      "1/1 [==============================] - 0s 149ms/step\n",
      "1/1 [==============================] - 0s 153ms/step\n",
      "1/1 [==============================] - 0s 144ms/step\n",
      "1/1 [==============================] - 0s 148ms/step\n",
      "1/1 [==============================] - 0s 147ms/step\n",
      "1/1 [==============================] - 0s 150ms/step\n",
      "1/1 [==============================] - 0s 146ms/step\n",
      "1/1 [==============================] - 0s 146ms/step\n",
      "1/1 [==============================] - 0s 148ms/step\n",
      "1/1 [==============================] - 0s 149ms/step\n",
      "1/1 [==============================] - 0s 152ms/step\n",
      "1/1 [==============================] - 0s 155ms/step\n",
      "1/1 [==============================] - 0s 160ms/step\n",
      "1/1 [==============================] - 0s 153ms/step\n",
      "1/1 [==============================] - 0s 157ms/step\n",
      "1/1 [==============================] - 0s 162ms/step\n",
      "1/1 [==============================] - 0s 141ms/step\n",
      "1/1 [==============================] - 0s 147ms/step\n",
      "1/1 [==============================] - 0s 145ms/step\n",
      "1/1 [==============================] - 0s 146ms/step\n",
      "1/1 [==============================] - 0s 145ms/step\n",
      "1/1 [==============================] - 0s 144ms/step\n",
      "1/1 [==============================] - 0s 150ms/step\n",
      "1/1 [==============================] - 0s 149ms/step\n",
      "1/1 [==============================] - 0s 150ms/step\n",
      "1/1 [==============================] - 0s 154ms/step\n",
      "1/1 [==============================] - 0s 153ms/step\n",
      "1/1 [==============================] - 0s 162ms/step\n",
      "1/1 [==============================] - 0s 156ms/step\n",
      "1/1 [==============================] - 0s 163ms/step\n",
      "1/1 [==============================] - 0s 154ms/step\n",
      "1/1 [==============================] - 0s 150ms/step\n",
      "1/1 [==============================] - 0s 147ms/step\n",
      "1/1 [==============================] - 0s 149ms/step\n",
      "1/1 [==============================] - 0s 145ms/step\n",
      "1/1 [==============================] - 0s 148ms/step\n",
      "1/1 [==============================] - 0s 148ms/step\n",
      "1/1 [==============================] - 0s 146ms/step\n",
      "1/1 [==============================] - 0s 150ms/step\n",
      "1/1 [==============================] - 0s 154ms/step\n",
      "1/1 [==============================] - 0s 156ms/step\n",
      "1/1 [==============================] - 0s 162ms/step\n",
      "1/1 [==============================] - 0s 155ms/step\n",
      "1/1 [==============================] - 0s 152ms/step\n",
      "1/1 [==============================] - 0s 156ms/step\n",
      "1/1 [==============================] - 0s 148ms/step\n",
      "1/1 [==============================] - 0s 152ms/step\n",
      "1/1 [==============================] - 0s 155ms/step\n",
      "1/1 [==============================] - 0s 144ms/step\n",
      "1/1 [==============================] - 0s 150ms/step\n",
      "1/1 [==============================] - 0s 147ms/step\n",
      "1/1 [==============================] - 0s 148ms/step\n",
      "1/1 [==============================] - 0s 147ms/step\n",
      "1/1 [==============================] - 0s 152ms/step\n",
      "1/1 [==============================] - 0s 154ms/step\n",
      "1/1 [==============================] - 0s 155ms/step\n",
      "1/1 [==============================] - 0s 162ms/step\n",
      "1/1 [==============================] - 0s 153ms/step\n",
      "1/1 [==============================] - 0s 147ms/step\n",
      "1/1 [==============================] - 0s 148ms/step\n",
      "1/1 [==============================] - 0s 149ms/step\n",
      "1/1 [==============================] - 0s 150ms/step\n",
      "1/1 [==============================] - 0s 148ms/step\n",
      "1/1 [==============================] - 0s 149ms/step\n",
      "1/1 [==============================] - 0s 148ms/step\n",
      "1/1 [==============================] - 0s 149ms/step\n",
      "1/1 [==============================] - 0s 150ms/step\n",
      "1/1 [==============================] - 0s 150ms/step\n",
      "1/1 [==============================] - 0s 151ms/step\n",
      "1/1 [==============================] - 0s 154ms/step\n",
      "1/1 [==============================] - 0s 163ms/step\n",
      "1/1 [==============================] - 0s 152ms/step\n",
      "1/1 [==============================] - 0s 148ms/step\n",
      "1/1 [==============================] - 0s 148ms/step\n",
      "1/1 [==============================] - 0s 148ms/step\n",
      "1/1 [==============================] - 0s 150ms/step\n",
      "1/1 [==============================] - 0s 148ms/step\n",
      "1/1 [==============================] - 0s 145ms/step\n",
      "1/1 [==============================] - 0s 148ms/step\n",
      "1/1 [==============================] - 0s 151ms/step\n",
      "1/1 [==============================] - 0s 144ms/step\n",
      "1/1 [==============================] - 0s 147ms/step\n",
      "1/1 [==============================] - 0s 151ms/step\n",
      "1/1 [==============================] - 0s 155ms/step\n",
      "1/1 [==============================] - 0s 155ms/step\n",
      "1/1 [==============================] - 0s 160ms/step\n",
      "1/1 [==============================] - 0s 157ms/step\n",
      "1/1 [==============================] - 0s 152ms/step\n",
      "1/1 [==============================] - 0s 146ms/step\n",
      "1/1 [==============================] - 0s 149ms/step\n",
      "1/1 [==============================] - 0s 147ms/step\n",
      "1/1 [==============================] - 0s 150ms/step\n",
      "1/1 [==============================] - 0s 148ms/step\n",
      "1/1 [==============================] - 0s 146ms/step\n",
      "1/1 [==============================] - 0s 149ms/step\n",
      "1/1 [==============================] - 0s 145ms/step\n",
      "1/1 [==============================] - 0s 147ms/step\n",
      "1/1 [==============================] - 0s 152ms/step\n",
      "1/1 [==============================] - 0s 155ms/step\n",
      "1/1 [==============================] - 0s 156ms/step\n",
      "1/1 [==============================] - 0s 152ms/step\n",
      "1/1 [==============================] - 0s 150ms/step\n",
      "1/1 [==============================] - 0s 153ms/step\n",
      "1/1 [==============================] - 0s 153ms/step\n",
      "1/1 [==============================] - 0s 148ms/step\n",
      "1/1 [==============================] - 0s 147ms/step\n",
      "1/1 [==============================] - 0s 149ms/step\n",
      "1/1 [==============================] - 0s 148ms/step\n",
      "1/1 [==============================] - 0s 148ms/step\n",
      "1/1 [==============================] - 0s 146ms/step\n",
      "1/1 [==============================] - 0s 147ms/step\n",
      "1/1 [==============================] - 0s 151ms/step\n",
      "1/1 [==============================] - 0s 152ms/step\n",
      "1/1 [==============================] - 0s 157ms/step\n",
      "1/1 [==============================] - 0s 202ms/step\n",
      "1/1 [==============================] - 0s 152ms/step\n",
      "1/1 [==============================] - 0s 147ms/step\n",
      "1/1 [==============================] - 0s 150ms/step\n",
      "1/1 [==============================] - 0s 146ms/step\n",
      "1/1 [==============================] - 0s 147ms/step\n",
      "1/1 [==============================] - 0s 149ms/step\n",
      "1/1 [==============================] - 0s 148ms/step\n",
      "1/1 [==============================] - 0s 149ms/step\n",
      "1/1 [==============================] - 0s 151ms/step\n",
      "1/1 [==============================] - 0s 148ms/step\n",
      "1/1 [==============================] - 0s 146ms/step\n",
      "1/1 [==============================] - 0s 151ms/step\n",
      "1/1 [==============================] - 0s 153ms/step\n",
      "1/1 [==============================] - 0s 155ms/step\n",
      "1/1 [==============================] - 0s 168ms/step\n",
      "1/1 [==============================] - 0s 155ms/step\n",
      "1/1 [==============================] - 0s 150ms/step\n",
      "1/1 [==============================] - 0s 147ms/step\n",
      "1/1 [==============================] - 0s 146ms/step\n",
      "1/1 [==============================] - 0s 150ms/step\n",
      "1/1 [==============================] - 0s 148ms/step\n",
      "1/1 [==============================] - 0s 153ms/step\n",
      "1/1 [==============================] - 0s 149ms/step\n",
      "1/1 [==============================] - 0s 157ms/step\n",
      "1/1 [==============================] - 0s 145ms/step\n",
      "1/1 [==============================] - 0s 146ms/step\n",
      "1/1 [==============================] - 0s 150ms/step\n",
      "1/1 [==============================] - 0s 154ms/step\n",
      "1/1 [==============================] - 0s 154ms/step\n",
      "1/1 [==============================] - 0s 162ms/step\n",
      "1/1 [==============================] - 0s 157ms/step\n",
      "1/1 [==============================] - 0s 150ms/step\n",
      "1/1 [==============================] - 0s 148ms/step\n",
      "1/1 [==============================] - 0s 149ms/step\n",
      "1/1 [==============================] - 0s 153ms/step\n",
      "1/1 [==============================] - 0s 146ms/step\n",
      "1/1 [==============================] - 0s 147ms/step\n",
      "1/1 [==============================] - 0s 148ms/step\n",
      "1/1 [==============================] - 0s 146ms/step\n",
      "1/1 [==============================] - 0s 147ms/step\n",
      "1/1 [==============================] - 0s 151ms/step\n",
      "1/1 [==============================] - 0s 152ms/step\n"
     ]
    }
   ],
   "source": [
    "# Prediction and evaluation on test set\n",
    "from sklearn.metrics import classification_report\n",
    "real_label = []\n",
    "predicted_class = []\n",
    "false_predictions = []\n",
    "\n",
    "for folder in os.listdir(test_path):\n",
    "    folder_path = os.path.join(test_path, folder)\n",
    "    for file in os.listdir(folder_path):\n",
    "        file_path = os.path.join(folder_path, file)\n",
    "        img = cv2.imread(file_path)\n",
    "\n",
    "        # Apply preprocessing for prediction\n",
    "        img = preprocess_image(img)  # Preprocess without adding the batch dimension here\n",
    "        img = np.expand_dims(img, axis=0)  # Add batch dimension\n",
    "\n",
    "        # Make prediction\n",
    "        predictions = model.predict(img)\n",
    "        real_label.append(folder)\n",
    "        predicted_class_index = np.argmax(predictions)\n",
    "        predicted_label = le.classes_[predicted_class_index]\n",
    "        predicted_class.append(predicted_label)\n",
    "\n",
    "        # Check if prediction is incorrect\n",
    "        if predicted_label != folder:\n",
    "            false_predictions.append((file_path, folder, predicted_label))\n",
    "\n",
    "\n"
   ]
  },
  {
   "cell_type": "code",
   "execution_count": 17,
   "metadata": {
    "execution": {
     "iopub.execute_input": "2025-04-23T03:05:06.427896Z",
     "iopub.status.busy": "2025-04-23T03:05:06.427612Z",
     "iopub.status.idle": "2025-04-23T03:05:06.442482Z",
     "shell.execute_reply": "2025-04-23T03:05:06.441924Z",
     "shell.execute_reply.started": "2025-04-23T03:05:06.427874Z"
    },
    "trusted": true
   },
   "outputs": [
    {
     "name": "stdout",
     "output_type": "stream",
     "text": [
      "                            precision    recall  f1-score   support\n",
      "\n",
      "            BA- cellulitis       0.79      0.97      0.87        34\n",
      "               BA-impetigo       0.91      1.00      0.95        20\n",
      "           FU-athlete-foot       0.97      0.97      0.97        32\n",
      "            FU-nail-fungus       1.00      1.00      1.00        33\n",
      "               FU-ringworm       1.00      0.91      0.95        23\n",
      "                    Normal       1.00      0.91      0.95        77\n",
      "PA-cutaneous-larva-migrans       1.00      0.96      0.98        25\n",
      "             VI-chickenpox       1.00      1.00      1.00        34\n",
      "               VI-shingles       1.00      1.00      1.00        33\n",
      "\n",
      "                  accuracy                           0.96       311\n",
      "                 macro avg       0.96      0.97      0.96       311\n",
      "              weighted avg       0.97      0.96      0.96       311\n",
      "\n"
     ]
    }
   ],
   "source": [
    "# Print classification report\n",
    "print(classification_report(real_label, predicted_class, target_names=le.classes_))"
   ]
  },
  {
   "cell_type": "code",
   "execution_count": 20,
   "metadata": {},
   "outputs": [
    {
     "name": "stdout",
     "output_type": "stream",
     "text": [
      "Note: you may need to restart the kernel to use updated packages.Collecting seaborn==0.12.2\n",
      "  Downloading seaborn-0.12.2-py3-none-any.whl (293 kB)\n",
      "     ---------------------------------------- 0.0/293.3 kB ? eta -:--:--\n",
      "     ---- ---------------------------------- 30.7/293.3 kB 1.3 MB/s eta 0:00:01\n",
      "     ---------- -------------------------- 81.9/293.3 kB 919.0 kB/s eta 0:00:01\n",
      "     ------------ -------------------------- 92.2/293.3 kB 1.1 MB/s eta 0:00:01\n",
      "     ----------------------- -------------- 184.3/293.3 kB 1.1 MB/s eta 0:00:01\n",
      "     ---------------------------------- --- 266.2/293.3 kB 1.4 MB/s eta 0:00:01\n",
      "     -------------------------------------- 293.3/293.3 kB 1.3 MB/s eta 0:00:00\n",
      "Requirement already satisfied: matplotlib!=3.6.1,>=3.1 in c:\\users\\ahmed\\appdata\\local\\programs\\python\\python310\\lib\\site-packages (from seaborn==0.12.2) (3.5.3)\n",
      "Collecting pandas>=0.25\n",
      "  Downloading pandas-2.2.3-cp310-cp310-win_amd64.whl (11.6 MB)\n",
      "     ---------------------------------------- 0.0/11.6 MB ? eta -:--:--\n",
      "     ---------------------------------------- 0.1/11.6 MB 2.6 MB/s eta 0:00:05\n",
      "      --------------------------------------- 0.2/11.6 MB 2.1 MB/s eta 0:00:06\n",
      "      --------------------------------------- 0.3/11.6 MB 2.4 MB/s eta 0:00:05\n",
      "     - -------------------------------------- 0.4/11.6 MB 2.5 MB/s eta 0:00:05\n",
      "     - -------------------------------------- 0.5/11.6 MB 2.4 MB/s eta 0:00:05\n",
      "     - -------------------------------------- 0.5/11.6 MB 2.4 MB/s eta 0:00:05\n",
      "     -- ------------------------------------- 0.6/11.6 MB 2.4 MB/s eta 0:00:05\n",
      "     -- ------------------------------------- 0.7/11.6 MB 2.4 MB/s eta 0:00:05\n",
      "     -- ------------------------------------- 0.8/11.6 MB 2.4 MB/s eta 0:00:05\n",
      "     --- ------------------------------------ 0.9/11.6 MB 2.4 MB/s eta 0:00:05\n",
      "     --- ------------------------------------ 1.0/11.6 MB 2.4 MB/s eta 0:00:05\n",
      "     --- ------------------------------------ 1.1/11.6 MB 2.4 MB/s eta 0:00:05\n",
      "     ---- ----------------------------------- 1.2/11.6 MB 2.4 MB/s eta 0:00:05\n",
      "     ---- ----------------------------------- 1.3/11.6 MB 2.4 MB/s eta 0:00:05\n",
      "     ---- ----------------------------------- 1.4/11.6 MB 2.4 MB/s eta 0:00:05\n",
      "     ----- ---------------------------------- 1.5/11.6 MB 2.4 MB/s eta 0:00:05\n",
      "     ----- ---------------------------------- 1.6/11.6 MB 2.4 MB/s eta 0:00:05\n",
      "     ----- ---------------------------------- 1.7/11.6 MB 2.4 MB/s eta 0:00:05\n",
      "     ------ --------------------------------- 1.7/11.6 MB 2.4 MB/s eta 0:00:05\n",
      "     ------ --------------------------------- 1.8/11.6 MB 2.4 MB/s eta 0:00:05\n",
      "     ------ --------------------------------- 1.9/11.6 MB 2.4 MB/s eta 0:00:05\n",
      "     ------ --------------------------------- 2.0/11.6 MB 2.4 MB/s eta 0:00:04\n",
      "     ------- -------------------------------- 2.1/11.6 MB 2.4 MB/s eta 0:00:04\n",
      "     ------- -------------------------------- 2.2/11.6 MB 2.4 MB/s eta 0:00:04\n",
      "     ------- -------------------------------- 2.3/11.6 MB 2.4 MB/s eta 0:00:04\n",
      "     -------- ------------------------------- 2.4/11.6 MB 2.4 MB/s eta 0:00:04\n",
      "     -------- ------------------------------- 2.4/11.6 MB 2.4 MB/s eta 0:00:04\n",
      "     -------- ------------------------------- 2.5/11.6 MB 2.4 MB/s eta 0:00:04\n",
      "     --------- ------------------------------ 2.6/11.6 MB 2.4 MB/s eta 0:00:04\n",
      "     --------- ------------------------------ 2.7/11.6 MB 2.4 MB/s eta 0:00:04\n",
      "     --------- ------------------------------ 2.8/11.6 MB 2.4 MB/s eta 0:00:04\n",
      "     --------- ------------------------------ 2.9/11.6 MB 2.4 MB/s eta 0:00:04\n",
      "     ---------- ----------------------------- 3.0/11.6 MB 2.4 MB/s eta 0:00:04\n",
      "     ---------- ----------------------------- 3.1/11.6 MB 2.4 MB/s eta 0:00:04\n",
      "     ---------- ----------------------------- 3.2/11.6 MB 2.4 MB/s eta 0:00:04\n",
      "     ----------- ---------------------------- 3.2/11.6 MB 2.4 MB/s eta 0:00:04\n",
      "     ----------- ---------------------------- 3.3/11.6 MB 2.4 MB/s eta 0:00:04\n",
      "     ----------- ---------------------------- 3.4/11.6 MB 2.4 MB/s eta 0:00:04\n",
      "     ------------ --------------------------- 3.5/11.6 MB 2.4 MB/s eta 0:00:04\n",
      "     ------------ --------------------------- 3.6/11.6 MB 2.4 MB/s eta 0:00:04\n",
      "     ------------ --------------------------- 3.7/11.6 MB 2.4 MB/s eta 0:00:04\n",
      "     ------------- -------------------------- 3.8/11.6 MB 2.4 MB/s eta 0:00:04\n",
      "     ------------- -------------------------- 3.9/11.6 MB 2.4 MB/s eta 0:00:04\n",
      "     ------------- -------------------------- 4.0/11.6 MB 2.4 MB/s eta 0:00:04\n",
      "     -------------- ------------------------- 4.1/11.6 MB 2.4 MB/s eta 0:00:04\n",
      "     -------------- ------------------------- 4.2/11.6 MB 2.4 MB/s eta 0:00:04\n",
      "     -------------- ------------------------- 4.2/11.6 MB 2.4 MB/s eta 0:00:04\n",
      "     --------------- ------------------------ 4.4/11.6 MB 2.4 MB/s eta 0:00:04\n",
      "     --------------- ------------------------ 4.4/11.6 MB 2.4 MB/s eta 0:00:03\n",
      "     --------------- ------------------------ 4.5/11.6 MB 2.4 MB/s eta 0:00:03\n",
      "     --------------- ------------------------ 4.6/11.6 MB 2.4 MB/s eta 0:00:03\n",
      "     ---------------- ----------------------- 4.7/11.6 MB 2.4 MB/s eta 0:00:03\n",
      "     ---------------- ----------------------- 4.8/11.6 MB 2.4 MB/s eta 0:00:03\n",
      "     ---------------- ----------------------- 4.9/11.6 MB 2.4 MB/s eta 0:00:03\n",
      "     ----------------- ---------------------- 5.0/11.6 MB 2.4 MB/s eta 0:00:03\n",
      "     ----------------- ---------------------- 5.1/11.6 MB 2.4 MB/s eta 0:00:03\n",
      "     ----------------- ---------------------- 5.2/11.6 MB 2.4 MB/s eta 0:00:03\n",
      "     ------------------ --------------------- 5.3/11.6 MB 2.4 MB/s eta 0:00:03\n",
      "     ------------------ --------------------- 5.4/11.6 MB 2.4 MB/s eta 0:00:03\n",
      "     ------------------ --------------------- 5.4/11.6 MB 2.4 MB/s eta 0:00:03\n",
      "     ------------------- -------------------- 5.5/11.6 MB 2.4 MB/s eta 0:00:03\n",
      "     ------------------- -------------------- 5.6/11.6 MB 2.4 MB/s eta 0:00:03\n",
      "     ------------------- -------------------- 5.7/11.6 MB 2.4 MB/s eta 0:00:03\n",
      "     ------------------- -------------------- 5.8/11.6 MB 2.4 MB/s eta 0:00:03\n",
      "     -------------------- ------------------- 5.9/11.6 MB 2.4 MB/s eta 0:00:03\n",
      "     -------------------- ------------------- 6.0/11.6 MB 2.4 MB/s eta 0:00:03\n",
      "     -------------------- ------------------- 6.1/11.6 MB 2.4 MB/s eta 0:00:03\n",
      "     --------------------- ------------------ 6.2/11.6 MB 2.4 MB/s eta 0:00:03\n",
      "     --------------------- ------------------ 6.3/11.6 MB 2.4 MB/s eta 0:00:03\n",
      "     --------------------- ------------------ 6.3/11.6 MB 2.4 MB/s eta 0:00:03\n",
      "     ---------------------- ----------------- 6.4/11.6 MB 2.4 MB/s eta 0:00:03\n",
      "     ---------------------- ----------------- 6.5/11.6 MB 2.4 MB/s eta 0:00:03\n",
      "     ---------------------- ----------------- 6.6/11.6 MB 2.4 MB/s eta 0:00:03\n",
      "     ----------------------- ---------------- 6.7/11.6 MB 2.4 MB/s eta 0:00:03\n",
      "     ----------------------- ---------------- 6.8/11.6 MB 2.4 MB/s eta 0:00:02\n",
      "     ----------------------- ---------------- 6.9/11.6 MB 2.4 MB/s eta 0:00:02\n",
      "     ------------------------ --------------- 7.0/11.6 MB 2.4 MB/s eta 0:00:02\n",
      "     ------------------------ --------------- 7.1/11.6 MB 2.4 MB/s eta 0:00:02\n",
      "     ------------------------ --------------- 7.2/11.6 MB 2.4 MB/s eta 0:00:02\n",
      "     ------------------------- -------------- 7.3/11.6 MB 2.4 MB/s eta 0:00:02\n",
      "     ------------------------- -------------- 7.4/11.6 MB 2.4 MB/s eta 0:00:02\n",
      "     ------------------------- -------------- 7.5/11.6 MB 2.4 MB/s eta 0:00:02\n",
      "     -------------------------- ------------- 7.5/11.6 MB 2.4 MB/s eta 0:00:02\n",
      "     -------------------------- ------------- 7.6/11.6 MB 2.4 MB/s eta 0:00:02\n",
      "     -------------------------- ------------- 7.7/11.6 MB 2.4 MB/s eta 0:00:02\n",
      "     --------------------------- ------------ 7.8/11.6 MB 2.4 MB/s eta 0:00:02\n",
      "     --------------------------- ------------ 7.9/11.6 MB 2.4 MB/s eta 0:00:02\n",
      "     --------------------------- ------------ 8.0/11.6 MB 2.4 MB/s eta 0:00:02\n",
      "     --------------------------- ------------ 8.1/11.6 MB 2.4 MB/s eta 0:00:02\n",
      "     ---------------------------- ----------- 8.2/11.6 MB 2.4 MB/s eta 0:00:02\n",
      "     ---------------------------- ----------- 8.3/11.6 MB 2.4 MB/s eta 0:00:02\n",
      "     ---------------------------- ----------- 8.4/11.6 MB 2.4 MB/s eta 0:00:02\n",
      "     ----------------------------- ---------- 8.5/11.6 MB 2.4 MB/s eta 0:00:02\n",
      "     ----------------------------- ---------- 8.6/11.6 MB 2.4 MB/s eta 0:00:02\n",
      "     ----------------------------- ---------- 8.7/11.6 MB 2.4 MB/s eta 0:00:02\n",
      "     ------------------------------ --------- 8.8/11.6 MB 2.4 MB/s eta 0:00:02\n",
      "     ------------------------------ --------- 8.8/11.6 MB 2.4 MB/s eta 0:00:02\n",
      "     ------------------------------ --------- 8.9/11.6 MB 2.4 MB/s eta 0:00:02\n",
      "     ------------------------------- -------- 9.0/11.6 MB 2.4 MB/s eta 0:00:02\n",
      "     ------------------------------- -------- 9.1/11.6 MB 2.4 MB/s eta 0:00:02\n",
      "     ------------------------------- -------- 9.2/11.6 MB 2.4 MB/s eta 0:00:01\n",
      "     -------------------------------- ------- 9.3/11.6 MB 2.4 MB/s eta 0:00:01\n",
      "     -------------------------------- ------- 9.4/11.6 MB 2.4 MB/s eta 0:00:01\n",
      "     -------------------------------- ------- 9.5/11.6 MB 2.4 MB/s eta 0:00:01\n",
      "     --------------------------------- ------ 9.6/11.6 MB 2.4 MB/s eta 0:00:01\n",
      "     --------------------------------- ------ 9.7/11.6 MB 2.4 MB/s eta 0:00:01\n",
      "     --------------------------------- ------ 9.8/11.6 MB 2.4 MB/s eta 0:00:01\n",
      "     ---------------------------------- ----- 9.9/11.6 MB 2.4 MB/s eta 0:00:01\n",
      "     ---------------------------------- ----- 10.0/11.6 MB 2.4 MB/s eta 0:00:01\n",
      "     ---------------------------------- ----- 10.0/11.6 MB 2.4 MB/s eta 0:00:01\n",
      "     ---------------------------------- ----- 10.1/11.6 MB 2.4 MB/s eta 0:00:01\n",
      "     ----------------------------------- ---- 10.2/11.6 MB 2.4 MB/s eta 0:00:01\n",
      "     ----------------------------------- ---- 10.3/11.6 MB 2.4 MB/s eta 0:00:01\n",
      "     ----------------------------------- ---- 10.4/11.6 MB 2.4 MB/s eta 0:00:01\n",
      "     ------------------------------------ --- 10.5/11.6 MB 2.4 MB/s eta 0:00:01\n",
      "     ------------------------------------ --- 10.6/11.6 MB 2.4 MB/s eta 0:00:01\n",
      "     ------------------------------------ --- 10.7/11.6 MB 2.4 MB/s eta 0:00:01\n",
      "     ------------------------------------- -- 10.8/11.6 MB 2.4 MB/s eta 0:00:01\n",
      "     ------------------------------------- -- 10.9/11.6 MB 2.4 MB/s eta 0:00:01\n",
      "     ------------------------------------- -- 11.0/11.6 MB 2.4 MB/s eta 0:00:01\n",
      "     -------------------------------------- - 11.1/11.6 MB 2.4 MB/s eta 0:00:01\n",
      "     -------------------------------------- - 11.2/11.6 MB 2.4 MB/s eta 0:00:01\n",
      "     -------------------------------------- - 11.2/11.6 MB 2.4 MB/s eta 0:00:01\n",
      "     ---------------------------------------  11.3/11.6 MB 2.4 MB/s eta 0:00:01\n",
      "     ---------------------------------------  11.4/11.6 MB 2.4 MB/s eta 0:00:01\n",
      "     ---------------------------------------  11.5/11.6 MB 2.4 MB/s eta 0:00:01\n",
      "     ---------------------------------------  11.6/11.6 MB 2.4 MB/s eta 0:00:01\n",
      "     ---------------------------------------  11.6/11.6 MB 2.4 MB/s eta 0:00:01\n",
      "     ---------------------------------------- 11.6/11.6 MB 2.4 MB/s eta 0:00:00\n",
      "Requirement already satisfied: numpy!=1.24.0,>=1.17 in c:\\users\\ahmed\\appdata\\local\\programs\\python\\python310\\lib\\site-packages (from seaborn==0.12.2) (1.23.5)\n",
      "Requirement already satisfied: pillow>=6.2.0 in c:\\users\\ahmed\\appdata\\local\\programs\\python\\python310\\lib\\site-packages (from matplotlib!=3.6.1,>=3.1->seaborn==0.12.2) (11.2.1)\n",
      "Requirement already satisfied: cycler>=0.10 in c:\\users\\ahmed\\appdata\\local\\programs\\python\\python310\\lib\\site-packages (from matplotlib!=3.6.1,>=3.1->seaborn==0.12.2) (0.12.1)\n",
      "Requirement already satisfied: python-dateutil>=2.7 in c:\\users\\ahmed\\appdata\\roaming\\python\\python310\\site-packages (from matplotlib!=3.6.1,>=3.1->seaborn==0.12.2) (2.9.0.post0)\n",
      "Requirement already satisfied: kiwisolver>=1.0.1 in c:\\users\\ahmed\\appdata\\local\\programs\\python\\python310\\lib\\site-packages (from matplotlib!=3.6.1,>=3.1->seaborn==0.12.2) (1.4.8)\n",
      "Requirement already satisfied: fonttools>=4.22.0 in c:\\users\\ahmed\\appdata\\local\\programs\\python\\python310\\lib\\site-packages (from matplotlib!=3.6.1,>=3.1->seaborn==0.12.2) (4.57.0)\n",
      "Requirement already satisfied: pyparsing>=2.2.1 in c:\\users\\ahmed\\appdata\\local\\programs\\python\\python310\\lib\\site-packages (from matplotlib!=3.6.1,>=3.1->seaborn==0.12.2) (3.2.3)\n",
      "Requirement already satisfied: packaging>=20.0 in c:\\users\\ahmed\\appdata\\roaming\\python\\python310\\site-packages (from matplotlib!=3.6.1,>=3.1->seaborn==0.12.2) (25.0)\n",
      "Collecting tzdata>=2022.7\n",
      "  Downloading tzdata-2025.2-py2.py3-none-any.whl (347 kB)\n",
      "     ---------------------------------------- 0.0/347.8 kB ? eta -:--:--\n",
      "     ---------- ---------------------------- 92.2/347.8 kB 2.6 MB/s eta 0:00:01\n",
      "     --------------------- ---------------- 194.6/347.8 kB 3.0 MB/s eta 0:00:01\n",
      "     ------------------------------ ------- 276.5/347.8 kB 2.4 MB/s eta 0:00:01\n",
      "     -------------------------------------- 347.8/347.8 kB 2.4 MB/s eta 0:00:00\n",
      "Collecting pytz>=2020.1\n",
      "  Downloading pytz-2025.2-py2.py3-none-any.whl (509 kB)\n",
      "     ---------------------------------------- 0.0/509.2 kB ? eta -:--:--\n",
      "     ------- ------------------------------- 92.2/509.2 kB 2.6 MB/s eta 0:00:01\n",
      "     ------------- ------------------------ 184.3/509.2 kB 2.2 MB/s eta 0:00:01\n",
      "     ------------------- ------------------ 266.2/509.2 kB 2.3 MB/s eta 0:00:01\n",
      "     --------------------------- ---------- 368.6/509.2 kB 2.3 MB/s eta 0:00:01\n",
      "     --------------------------------- ---- 450.6/509.2 kB 2.3 MB/s eta 0:00:01\n",
      "     -------------------------------------- 509.2/509.2 kB 2.3 MB/s eta 0:00:00\n",
      "Requirement already satisfied: six>=1.5 in c:\\users\\ahmed\\appdata\\roaming\\python\\python310\\site-packages (from python-dateutil>=2.7->matplotlib!=3.6.1,>=3.1->seaborn==0.12.2) (1.17.0)\n",
      "Installing collected packages: pytz, tzdata, pandas, seaborn\n",
      "Successfully installed pandas-2.2.3 pytz-2025.2 seaborn-0.12.2 tzdata-2025.2\n",
      "\n"
     ]
    },
    {
     "name": "stderr",
     "output_type": "stream",
     "text": [
      "\n",
      "[notice] A new release of pip is available: 23.0.1 -> 25.1\n",
      "[notice] To update, run: python.exe -m pip install --upgrade pip\n"
     ]
    }
   ],
   "source": [
    "pip install seaborn==0.12.2"
   ]
  },
  {
   "cell_type": "code",
   "execution_count": 21,
   "metadata": {},
   "outputs": [
    {
     "data": {
      "image/png": "[encoded data removed]",
      "text/plain": [
       "<Figure size 800x600 with 2 Axes>"
      ]
     },
     "metadata": {},
     "output_type": "display_data"
    }
   ],
   "source": [
    "import matplotlib.pyplot as plt\n",
    "import seaborn as sns\n",
    "from sklearn.metrics import confusion_matrix, ConfusionMatrixDisplay\n",
    "\n",
    "# حساب الـ Confusion Matrix\n",
    "cm = confusion_matrix(real_label, predicted_class)\n",
    "\n",
    "# رسمها باستخدام seaborn\n",
    "plt.figure(figsize=(8, 6))\n",
    "sns.heatmap(cm, annot=True, fmt='d', cmap='Blues', xticklabels=le.classes_, yticklabels=le.classes_)\n",
    "plt.xlabel('Predicted Labels')\n",
    "plt.ylabel('True Labels')\n",
    "plt.title('Confusion Matrix')\n",
    "plt.show()"
   ]
  },
  {
   "cell_type": "code",
   "execution_count": 18,
   "metadata": {
    "colab": {
     "base_uri": "https://localhost:8080/",
     "height": 91
    },
    "execution": {
     "iopub.execute_input": "2025-04-23T03:05:56.491349Z",
     "iopub.status.busy": "2025-04-23T03:05:56.490792Z",
     "iopub.status.idle": "2025-04-23T03:05:56.961498Z",
     "shell.execute_reply": "2025-04-23T03:05:56.960801Z",
     "shell.execute_reply.started": "2025-04-23T03:05:56.491325Z"
    },
    "id": "aErectGy4yCs",
    "outputId": "45f1e3f7-7488-4fc1-eefd-8ba1ce692b04",
    "trusted": true
   },
   "outputs": [
    {
     "name": "stdout",
     "output_type": "stream",
     "text": [
      "Model saved as 'Skin.h5'\n"
     ]
    }
   ],
   "source": [
    "# Save the model in .h5 format\n",
    "model.save('Skin.h5')\n",
    "print(\"Model saved as 'Skin.h5'\")"
   ]
  },
  {
   "cell_type": "code",
   "execution_count": null,
   "metadata": {
    "trusted": true
   },
   "outputs": [],
   "source": []
  }
 ],
 "metadata": {
  "accelerator": "TPU",
  "colab": {
   "gpuType": "V28",
   "provenance": []
  },
  "kaggle": {
   "accelerator": "nvidiaTeslaT4",
   "dataSources": [
    {
     "datasetId": 7225154,
     "sourceId": 11520420,
     "sourceType": "datasetVersion"
    }
   ],
   "dockerImageVersionId": 31011,
   "isGpuEnabled": true,
   "isInternetEnabled": true,
   "language": "python",
   "sourceType": "notebook"
  },
  "kernelspec": {
   "display_name": "Python 3",
   "language": "python",
   "name": "python3"
  },
  "language_info": {
   "codemirror_mode": {
    "name": "ipython",
    "version": 3
   },
   "file_extension": ".py",
   "mimetype": "text/x-python",
   "name": "python",
   "nbconvert_exporter": "python",
   "pygments_lexer": "ipython3",
   "version": "3.10.11"
  }
 },
 "nbformat": 4,
 "nbformat_minor": 4
}
